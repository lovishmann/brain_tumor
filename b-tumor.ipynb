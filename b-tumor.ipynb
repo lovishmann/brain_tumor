{
 "cells": [
  {
   "cell_type": "code",
   "execution_count": null,
   "metadata": {
    "_cell_guid": "b1076dfc-b9ad-4769-8c92-a6c4dae69d19",
    "_uuid": "8f2839f25d086af736a60e9eeb907d3b93b6e0e5",
    "execution": {
     "iopub.execute_input": "2024-12-20T18:55:55.460897Z",
     "iopub.status.busy": "2024-12-20T18:55:55.460569Z",
     "iopub.status.idle": "2024-12-20T18:56:01.021844Z",
     "shell.execute_reply": "2024-12-20T18:56:01.021028Z",
     "shell.execute_reply.started": "2024-12-20T18:55:55.460841Z"
    },
    "trusted": true
   },
   "outputs": [],
   "source": [
    "import numpy as np # linear algebra\n",
    "import pandas as pd # data processing, CSV file I/O (e.g. pd.read_csv)\n",
    "\n",
    "import os  # For interacting with the operating system (to access file paths).\n",
    "for dirname, _, filenames in os.walk('/kaggle/input'):\n",
    "    for filename in filenames:\n",
    "        print(os.path.join(dirname, filename))"
   ]
  },
  {
   "cell_type": "code",
   "execution_count": null,
   "metadata": {},
   "outputs": [],
   "source": []
  },
  {
   "cell_type": "code",
   "execution_count": 2,
   "metadata": {
    "execution": {
     "iopub.execute_input": "2024-12-20T18:56:01.022979Z",
     "iopub.status.busy": "2024-12-20T18:56:01.022586Z",
     "iopub.status.idle": "2024-12-20T18:56:08.738418Z",
     "shell.execute_reply": "2024-12-20T18:56:08.737594Z",
     "shell.execute_reply.started": "2024-12-20T18:56:01.022957Z"
    },
    "trusted": true
   },
   "outputs": [],
   "source": [
    "import keras  # High-level neural network library for building models.\n",
    "from keras.models import Sequential  # Used to create the model layer-by-layer.\n",
    "from keras.layers import Conv2D,Flatten,Dense,MaxPooling2D,Dropout  # Layers for CNN model.\n",
    "from sklearn.metrics import accuracy_score # For calculating accuracy after predictions."
   ]
  },
  {
   "cell_type": "code",
   "execution_count": 3,
   "metadata": {
    "execution": {
     "iopub.execute_input": "2024-12-20T18:56:57.631756Z",
     "iopub.status.busy": "2024-12-20T18:56:57.631460Z",
     "iopub.status.idle": "2024-12-20T18:56:58.034561Z",
     "shell.execute_reply": "2024-12-20T18:56:58.033660Z",
     "shell.execute_reply.started": "2024-12-20T18:56:57.631734Z"
    },
    "trusted": true
   },
   "outputs": [],
   "source": [
    "import ipywidgets as widgets\n",
    "import io\n",
    "from PIL import Image\n",
    "import tqdm\n",
    "from sklearn.model_selection import train_test_split\n",
    "import cv2\n",
    "from sklearn.utils import shuffle\n",
    "import tensorflow as tf"
   ]
  },
  {
   "cell_type": "markdown",
   "metadata": {},
   "source": [
    "Folder paths"
   ]
  },
  {
   "cell_type": "code",
   "execution_count": 7,
   "metadata": {
    "execution": {
     "iopub.execute_input": "2024-12-20T18:58:55.547185Z",
     "iopub.status.busy": "2024-12-20T18:58:55.546810Z",
     "iopub.status.idle": "2024-12-20T18:59:17.740469Z",
     "shell.execute_reply": "2024-12-20T18:59:17.739748Z",
     "shell.execute_reply.started": "2024-12-20T18:58:55.547154Z"
    },
    "trusted": true
   },
   "outputs": [],
   "source": [
    "X_train = []\n",
    "Y_train = []\n",
    "image_size = 150 \n",
    "labels = ['glioma_tumor','meningioma_tumor','no_tumor','pituitary_tumor']\n",
    "for i in labels:\n",
    "    folderPath = os.path.join('../input/brain-tumor-classification-mri/Training',i)\n",
    "    for j in os.listdir(folderPath):\n",
    "        img = cv2.imread(os.path.join(folderPath,j))  # Read image\n",
    "        img = cv2.resize(img,(image_size,image_size)) # Resize the image\n",
    "        X_train.append(img) # Add image to the feature list\n",
    "        Y_train.append(i)  # Add label to the label list\n",
    "        \n",
    "for i in labels:\n",
    "    folderPath = os.path.join('../input/brain-tumor-classification-mri/Testing',i)\n",
    "    for j in os.listdir(folderPath):\n",
    "        img = cv2.imread(os.path.join(folderPath,j))\n",
    "        img = cv2.resize(img,(image_size,image_size))\n",
    "        X_train.append(img)\n",
    "        Y_train.append(i)\n",
    "\n",
    "X_train = np.array(X_train)\n",
    "Y_train = np.array(Y_train)"
   ]
  },
  {
   "cell_type": "code",
   "execution_count": null,
   "metadata": {
    "execution": {
     "iopub.execute_input": "2024-12-20T18:59:34.330293Z",
     "iopub.status.busy": "2024-12-20T18:59:34.329948Z",
     "iopub.status.idle": "2024-12-20T18:59:34.403192Z",
     "shell.execute_reply": "2024-12-20T18:59:34.402411Z",
     "shell.execute_reply.started": "2024-12-20T18:59:34.330263Z"
    },
    "trusted": true
   },
   "outputs": [],
   "source": [
    "X_train,Y_train = shuffle(X_train,Y_train,random_state=101)\n",
    "X_train.shape"
   ]
  },
  {
   "cell_type": "markdown",
   "metadata": {},
   "source": [
    "Train test splits"
   ]
  },
  {
   "cell_type": "code",
   "execution_count": 9,
   "metadata": {
    "execution": {
     "iopub.execute_input": "2024-12-20T19:00:42.754037Z",
     "iopub.status.busy": "2024-12-20T19:00:42.753741Z",
     "iopub.status.idle": "2024-12-20T19:00:42.823387Z",
     "shell.execute_reply": "2024-12-20T19:00:42.822696Z",
     "shell.execute_reply.started": "2024-12-20T19:00:42.754014Z"
    },
    "trusted": true
   },
   "outputs": [],
   "source": [
    "X_train,X_test,y_train,y_test = train_test_split(X_train,Y_train,test_size=0.1,random_state=101)"
   ]
  },
  {
   "cell_type": "code",
   "execution_count": 10,
   "metadata": {
    "execution": {
     "iopub.execute_input": "2024-12-20T19:02:22.862622Z",
     "iopub.status.busy": "2024-12-20T19:02:22.862312Z",
     "iopub.status.idle": "2024-12-20T19:02:22.892983Z",
     "shell.execute_reply": "2024-12-20T19:02:22.892343Z",
     "shell.execute_reply.started": "2024-12-20T19:02:22.862600Z"
    },
    "trusted": true
   },
   "outputs": [],
   "source": [
    "y_train_new = []\n",
    "for i in y_train:\n",
    "    y_train_new.append(labels.index(i))\n",
    "y_train=y_train_new\n",
    "y_train = tf.keras.utils.to_categorical(y_train)\n",
    "\n",
    "y_test_new = []\n",
    "for i in y_test:\n",
    "    y_test_new.append(labels.index(i))\n",
    "y_test=y_test_new\n",
    "y_test = tf.keras.utils.to_categorical(y_test)"
   ]
  },
  {
   "cell_type": "markdown",
   "metadata": {},
   "source": [
    "Convolutional Neural Network"
   ]
  },
  {
   "cell_type": "code",
   "execution_count": null,
   "metadata": {
    "execution": {
     "iopub.execute_input": "2024-12-20T19:04:02.399749Z",
     "iopub.status.busy": "2024-12-20T19:04:02.399456Z",
     "iopub.status.idle": "2024-12-20T19:04:03.247956Z",
     "shell.execute_reply": "2024-12-20T19:04:03.247330Z",
     "shell.execute_reply.started": "2024-12-20T19:04:02.399728Z"
    },
    "trusted": true
   },
   "outputs": [],
   "source": [
    "model = Sequential() # Creates a linear stack of layers\n",
    "model.add(Conv2D(32,(3,3),activation = 'relu',input_shape=(150,150,3)))\n",
    "model.add(Conv2D(64,(3,3),activation='relu'))\n",
    "model.add(MaxPooling2D(2,2))\n",
    "model.add(Dropout(0.3))\n",
    "model.add(Conv2D(64,(3,3),activation='relu'))\n",
    "model.add(Conv2D(64,(3,3),activation='relu'))\n",
    "model.add(Dropout(0.3))\n",
    "model.add(MaxPooling2D(2,2))\n",
    "model.add(Dropout(0.3))\n",
    "model.add(Conv2D(128,(3,3),activation='relu'))\n",
    "model.add(Conv2D(128,(3,3),activation='relu'))\n",
    "model.add(Conv2D(128,(3,3),activation='relu'))\n",
    "model.add(MaxPooling2D(2,2))\n",
    "model.add(Dropout(0.3))\n",
    "model.add(Conv2D(128,(3,3),activation='relu'))\n",
    "model.add(Conv2D(256,(3,3),activation='relu'))\n",
    "model.add(MaxPooling2D(2,2))\n",
    "model.add(Dropout(0.3))\n",
    "model.add(Flatten())\n",
    "model.add(Dense(512,activation = 'relu'))\n",
    "model.add(Dense(512,activation = 'relu'))\n",
    "model.add(Dropout(0.3))\n",
    "model.add(Dense(4,activation='softmax'))"
   ]
  },
  {
   "cell_type": "code",
   "execution_count": null,
   "metadata": {
    "execution": {
     "iopub.execute_input": "2024-12-20T19:04:34.649242Z",
     "iopub.status.busy": "2024-12-20T19:04:34.648922Z",
     "iopub.status.idle": "2024-12-20T19:04:34.678238Z",
     "shell.execute_reply": "2024-12-20T19:04:34.677571Z",
     "shell.execute_reply.started": "2024-12-20T19:04:34.649218Z"
    },
    "trusted": true
   },
   "outputs": [],
   "source": [
    "model.summary()"
   ]
  },
  {
   "cell_type": "code",
   "execution_count": 13,
   "metadata": {
    "execution": {
     "iopub.execute_input": "2024-12-20T19:05:14.353445Z",
     "iopub.status.busy": "2024-12-20T19:05:14.353162Z",
     "iopub.status.idle": "2024-12-20T19:05:14.366080Z",
     "shell.execute_reply": "2024-12-20T19:05:14.365458Z",
     "shell.execute_reply.started": "2024-12-20T19:05:14.353423Z"
    },
    "trusted": true
   },
   "outputs": [],
   "source": [
    "model.compile(loss='categorical_crossentropy',optimizer='Adam',metrics=['accuracy'])"
   ]
  },
  {
   "cell_type": "code",
   "execution_count": null,
   "metadata": {
    "execution": {
     "iopub.execute_input": "2024-12-20T19:05:25.070280Z",
     "iopub.status.busy": "2024-12-20T19:05:25.069926Z",
     "iopub.status.idle": "2024-12-20T19:06:50.997132Z",
     "shell.execute_reply": "2024-12-20T19:06:50.996277Z",
     "shell.execute_reply.started": "2024-12-20T19:05:25.070251Z"
    },
    "trusted": true
   },
   "outputs": [],
   "source": [
    "history = model.fit(X_train,y_train,epochs=20,validation_split=0.1)"
   ]
  },
  {
   "cell_type": "code",
   "execution_count": 15,
   "metadata": {
    "execution": {
     "iopub.execute_input": "2024-12-20T19:07:21.842798Z",
     "iopub.status.busy": "2024-12-20T19:07:21.842474Z",
     "iopub.status.idle": "2024-12-20T19:07:22.017303Z",
     "shell.execute_reply": "2024-12-20T19:07:22.016664Z",
     "shell.execute_reply.started": "2024-12-20T19:07:21.842770Z"
    },
    "trusted": true
   },
   "outputs": [],
   "source": [
    "import matplotlib.pyplot as plt #library used for creating  visualizations in Python. \n",
    "import seaborn as sns"
   ]
  },
  {
   "cell_type": "code",
   "execution_count": null,
   "metadata": {
    "execution": {
     "iopub.execute_input": "2024-12-20T19:08:17.196800Z",
     "iopub.status.busy": "2024-12-20T19:08:17.196226Z",
     "iopub.status.idle": "2024-12-20T19:08:17.471422Z",
     "shell.execute_reply": "2024-12-20T19:08:17.470612Z",
     "shell.execute_reply.started": "2024-12-20T19:08:17.196772Z"
    },
    "trusted": true
   },
   "outputs": [],
   "source": [
    "#model.save('braintumor.h5')\n",
    "\n",
    "acc = history.history['accuracy']\n",
    "val_acc = history.history['val_accuracy']\n",
    "epochs = range(len(acc))\n",
    "fig = plt.figure(figsize=(14,7))\n",
    "plt.plot(epochs,acc,'r',label=\"Training Accuracy\")\n",
    "plt.plot(epochs,val_acc,'b',label=\"Validation Accuracy\")\n",
    "plt.legend(loc='upper left')\n",
    "plt.show()"
   ]
  },
  {
   "cell_type": "code",
   "execution_count": null,
   "metadata": {
    "execution": {
     "iopub.execute_input": "2024-12-20T19:08:32.762608Z",
     "iopub.status.busy": "2024-12-20T19:08:32.762316Z",
     "iopub.status.idle": "2024-12-20T19:08:32.951851Z",
     "shell.execute_reply": "2024-12-20T19:08:32.951152Z",
     "shell.execute_reply.started": "2024-12-20T19:08:32.762586Z"
    },
    "trusted": true
   },
   "outputs": [],
   "source": [
    "loss = history.history['loss']\n",
    "val_loss = history.history['val_loss']\n",
    "epochs = range(len(loss))\n",
    "fig = plt.figure(figsize=(14,7))\n",
    "plt.plot(epochs,loss,'r',label=\"Training loss\")\n",
    "plt.plot(epochs,val_loss,'b',label=\"Validation loss\")\n",
    "plt.legend(loc='upper left')\n",
    "plt.show()"
   ]
  },
  {
   "cell_type": "markdown",
   "metadata": {},
   "source": [
    "Prediction"
   ]
  },
  {
   "cell_type": "code",
   "execution_count": null,
   "metadata": {
    "execution": {
     "iopub.execute_input": "2024-12-20T19:09:40.369882Z",
     "iopub.status.busy": "2024-12-20T19:09:40.369566Z",
     "iopub.status.idle": "2024-12-20T19:09:40.409566Z",
     "shell.execute_reply": "2024-12-20T19:09:40.408894Z",
     "shell.execute_reply.started": "2024-12-20T19:09:40.369856Z"
    },
    "trusted": true
   },
   "outputs": [],
   "source": [
    "img = cv2.imread('../input/brain-tumor-classification-mri/Training/pituitary_tumor/p (107).jpg')\n",
    "img = cv2.resize(img,(150,150))\n",
    "img_array = np.array(img)\n",
    "img_array.shape"
   ]
  },
  {
   "cell_type": "code",
   "execution_count": null,
   "metadata": {
    "execution": {
     "iopub.execute_input": "2024-12-20T19:09:50.619140Z",
     "iopub.status.busy": "2024-12-20T19:09:50.618818Z",
     "iopub.status.idle": "2024-12-20T19:09:50.624220Z",
     "shell.execute_reply": "2024-12-20T19:09:50.623537Z",
     "shell.execute_reply.started": "2024-12-20T19:09:50.619080Z"
    },
    "trusted": true
   },
   "outputs": [],
   "source": [
    "img_array = img_array.reshape(1,150,150,3)\n",
    "img_array.shape"
   ]
  },
  {
   "cell_type": "code",
   "execution_count": null,
   "metadata": {
    "execution": {
     "iopub.execute_input": "2024-12-20T19:10:15.373924Z",
     "iopub.status.busy": "2024-12-20T19:10:15.373643Z",
     "iopub.status.idle": "2024-12-20T19:10:15.609995Z",
     "shell.execute_reply": "2024-12-20T19:10:15.609177Z",
     "shell.execute_reply.started": "2024-12-20T19:10:15.373903Z"
    },
    "trusted": true
   },
   "outputs": [],
   "source": [
    "from tensorflow.keras.preprocessing import image\n",
    "img = image.load_img('../input/brain-tumor-classification-mri/Training/pituitary_tumor/p (107).jpg')\n",
    "plt.imshow(img,interpolation='nearest')\n",
    "plt.show()"
   ]
  },
  {
   "cell_type": "code",
   "execution_count": null,
   "metadata": {
    "execution": {
     "iopub.execute_input": "2024-12-20T19:10:28.640167Z",
     "iopub.status.busy": "2024-12-20T19:10:28.639838Z",
     "iopub.status.idle": "2024-12-20T19:10:29.493664Z",
     "shell.execute_reply": "2024-12-20T19:10:29.492957Z",
     "shell.execute_reply.started": "2024-12-20T19:10:28.640139Z"
    },
    "trusted": true
   },
   "outputs": [],
   "source": [
    "a=model.predict(img_array)\n",
    "indices = a.argmax()\n",
    "indices"
   ]
  }
 ],
 "metadata": {
  "kaggle": {
   "accelerator": "gpu",
   "dataSources": [
    {
     "datasetId": 672377,
     "sourceId": 1183165,
     "sourceType": "datasetVersion"
    }
   ],
   "dockerImageVersionId": 30823,
   "isGpuEnabled": true,
   "isInternetEnabled": true,
   "language": "python",
   "sourceType": "notebook"
  },
  "kernelspec": {
   "display_name": "Python 3",
   "language": "python",
   "name": "python3"
  },
  "language_info": {
   "codemirror_mode": {
    "name": "ipython",
    "version": 3
   },
   "file_extension": ".py",
   "mimetype": "text/x-python",
   "name": "python",
   "nbconvert_exporter": "python",
   "pygments_lexer": "ipython3",
   "version": "3.13.1"
  }
 },
 "nbformat": 4,
 "nbformat_minor": 4
}
